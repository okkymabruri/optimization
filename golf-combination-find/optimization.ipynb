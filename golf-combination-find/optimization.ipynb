{
 "cells": [
  {
   "cell_type": "code",
   "execution_count": 53,
   "metadata": {
    "jupyter": {
     "source_hidden": true
    }
   },
   "outputs": [],
   "source": [
    "import pandas as pd\n",
    "\n",
    "df = pd.read_excel(\"Houston.xlsx\", 0)"
   ]
  },
  {
   "cell_type": "code",
   "execution_count": 54,
   "metadata": {
    "jupyter": {
     "source_hidden": true
    }
   },
   "outputs": [
    {
     "data": {
      "text/html": [
       "<div>\n",
       "<style scoped>\n",
       "    .dataframe tbody tr th:only-of-type {\n",
       "        vertical-align: middle;\n",
       "    }\n",
       "\n",
       "    .dataframe tbody tr th {\n",
       "        vertical-align: top;\n",
       "    }\n",
       "\n",
       "    .dataframe thead th {\n",
       "        text-align: right;\n",
       "    }\n",
       "</style>\n",
       "<table border=\"1\" class=\"dataframe\">\n",
       "  <thead>\n",
       "    <tr style=\"text-align: right;\">\n",
       "      <th></th>\n",
       "      <th>Player Name</th>\n",
       "      <th>DK</th>\n",
       "      <th>My Rating</th>\n",
       "    </tr>\n",
       "  </thead>\n",
       "  <tbody>\n",
       "    <tr>\n",
       "      <th>0</th>\n",
       "      <td>Dustin Johnson</td>\n",
       "      <td>11500</td>\n",
       "      <td>1</td>\n",
       "    </tr>\n",
       "    <tr>\n",
       "      <th>1</th>\n",
       "      <td>Zach Johnson</td>\n",
       "      <td>8600</td>\n",
       "      <td>2</td>\n",
       "    </tr>\n",
       "    <tr>\n",
       "      <th>2</th>\n",
       "      <td>Sung-Jae Im</td>\n",
       "      <td>9300</td>\n",
       "      <td>3</td>\n",
       "    </tr>\n",
       "    <tr>\n",
       "      <th>3</th>\n",
       "      <td>Denny McCarthy</td>\n",
       "      <td>7900</td>\n",
       "      <td>4</td>\n",
       "    </tr>\n",
       "    <tr>\n",
       "      <th>4</th>\n",
       "      <td>Russell Henley</td>\n",
       "      <td>9400</td>\n",
       "      <td>5</td>\n",
       "    </tr>\n",
       "  </tbody>\n",
       "</table>\n",
       "</div>"
      ],
      "text/plain": [
       "      Player Name     DK  My Rating\n",
       "0  Dustin Johnson  11500          1\n",
       "1    Zach Johnson   8600          2\n",
       "2     Sung-Jae Im   9300          3\n",
       "3  Denny McCarthy   7900          4\n",
       "4  Russell Henley   9400          5"
      ]
     },
     "execution_count": 54,
     "metadata": {},
     "output_type": "execute_result"
    }
   ],
   "source": [
    "df.head()"
   ]
  },
  {
   "cell_type": "code",
   "execution_count": 55,
   "metadata": {
    "jupyter": {
     "source_hidden": true
    }
   },
   "outputs": [],
   "source": [
    "from pulp import *\n",
    "\n",
    "# PROBLEM DATA:\n",
    "DK = df[\"DK\"]\n",
    "rating = df[\"My Rating\"]\n",
    "\n",
    "max_cost = 47000\n",
    "max_to_pick = 6"
   ]
  },
  {
   "cell_type": "code",
   "execution_count": 56,
   "metadata": {
    "jupyter": {
     "source_hidden": true
    }
   },
   "outputs": [],
   "source": [
    "# DECLARE PROBLEM OBJECT:\n",
    "prob = LpProblem(\"Min_Problem\", LpMinimize)"
   ]
  },
  {
   "cell_type": "code",
   "execution_count": 57,
   "metadata": {
    "jupyter": {
     "source_hidden": true
    }
   },
   "outputs": [
    {
     "name": "stdout",
     "output_type": "stream",
     "text": [
      "Optimal\n",
      "Total rating = 49.0\n",
      "Total DK = 46500.0\n",
      "x_1 = 1.0\n",
      "x_13 = 1.0\n",
      "x_14 = 1.0\n",
      "x_3 = 1.0\n",
      "x_6 = 1.0\n",
      "x_7 = 1.0\n"
     ]
    }
   ],
   "source": [
    "# VARIABLES\n",
    "# x_i - whether to include item i (1), or not (0)\n",
    "n = len(DK)\n",
    "N = range(n)\n",
    "x = LpVariable.dicts(\"x\", N, cat=\"Binary\")\n",
    "\n",
    "# OBJECTIVE\n",
    "prob += lpSum([rating[i] * x[i] for i in N])\n",
    "\n",
    "# CONSTRAINTS\n",
    "prob += lpSum([x[i] for i in N]) == max_to_pick  # Limit number to include\n",
    "prob += lpSum([x[i] * DK[i] for i in N]) <= max_cost  # Limit max. cost\n",
    "\n",
    "# SOLVE & PRINT RESULTS\n",
    "prob.solve()\n",
    "print(LpStatus[prob.status])\n",
    "print(\"Total rating = \" + str(value(prob.objective)))\n",
    "print(\"Total DK = \" + str(sum([x[i].varValue * DK[i] for i in N])))\n",
    "\n",
    "for v in prob.variables():\n",
    "    if v.varValue != 0:\n",
    "        print(v.name, \"=\", v.varValue)\n",
    "\n"
   ]
  },
  {
   "cell_type": "code",
   "execution_count": 58,
   "metadata": {
    "jupyter": {
     "source_hidden": true
    }
   },
   "outputs": [
    {
     "name": "stdout",
     "output_type": "stream",
     "text": [
      "Zach Johnson 8600\n",
      "Denny McCarthy 7900\n",
      "Brian Harman 8500\n",
      "Henrik Stenson 7400\n",
      "Pat Perez 6800\n",
      "Cameron Tringale 7300\n"
     ]
    }
   ],
   "source": [
    "combination = [1,3,6,7,13,14]\n",
    "total = 0\n",
    "for i in combination:\n",
    "    print(df['Player Name'][i], df['DK'][i])"
   ]
  }
 ],
 "metadata": {
  "kernelspec": {
   "display_name": "Python 3",
   "language": "python",
   "name": "python3"
  },
  "language_info": {
   "codemirror_mode": {
    "name": "ipython",
    "version": 3
   },
   "file_extension": ".py",
   "mimetype": "text/x-python",
   "name": "python",
   "nbconvert_exporter": "python",
   "pygments_lexer": "ipython3",
   "version": "3.8.6"
  }
 },
 "nbformat": 4,
 "nbformat_minor": 4
}
